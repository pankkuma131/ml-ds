{
  "nbformat": 4,
  "nbformat_minor": 0,
  "metadata": {
    "colab": {
      "name": "Untitled0.ipynb",
      "provenance": [],
      "authorship_tag": "ABX9TyMC0clOjTUEXtUHcyco7C4H",
      "include_colab_link": true
    },
    "kernelspec": {
      "name": "python3",
      "display_name": "Python 3"
    }
  },
  "cells": [
    {
      "cell_type": "markdown",
      "metadata": {
        "id": "view-in-github",
        "colab_type": "text"
      },
      "source": [
        "<a href=\"https://colab.research.google.com/github/pankkuma131/ml-ds/blob/master/kaggle-to-collab-download.ipynb\" target=\"_parent\"><img src=\"https://colab.research.google.com/assets/colab-badge.svg\" alt=\"Open In Colab\"/></a>"
      ]
    },
    {
      "cell_type": "code",
      "metadata": {
        "id": "zBdsUdYT9-VP",
        "colab_type": "code",
        "colab": {}
      },
      "source": [
        "!pip install -q kaggle"
      ],
      "execution_count": 0,
      "outputs": []
    },
    {
      "cell_type": "code",
      "metadata": {
        "id": "WW0gmELg-Sek",
        "colab_type": "code",
        "colab": {}
      },
      "source": [
        "!mkdir -p ~/.kaggle"
      ],
      "execution_count": 0,
      "outputs": []
    },
    {
      "cell_type": "code",
      "metadata": {
        "id": "HZs9DW8r-Z_p",
        "colab_type": "code",
        "colab": {}
      },
      "source": [
        "!cp kaggle.json ~/.kaggle/"
      ],
      "execution_count": 0,
      "outputs": []
    },
    {
      "cell_type": "code",
      "metadata": {
        "id": "QP1p0FuE-qjC",
        "colab_type": "code",
        "colab": {}
      },
      "source": [
        "!chmod 600 ~/.kaggle/kaggle.json"
      ],
      "execution_count": 0,
      "outputs": []
    },
    {
      "cell_type": "code",
      "metadata": {
        "id": "VM8MtWZ4-y82",
        "colab_type": "code",
        "colab": {
          "base_uri": "https://localhost:8080/",
          "height": 67
        },
        "outputId": "b9b3281e-abeb-451c-9521-52648437a36b"
      },
      "source": [
        "!kaggle datasets download -d harvardlil/caselaw-dataset-illinois"
      ],
      "execution_count": 11,
      "outputs": [
        {
          "output_type": "stream",
          "text": [
            "Downloading caselaw-dataset-illinois.zip to /content\n",
            " 99% 920M/929M [00:22<00:00, 75.6MB/s]\n",
            "100% 929M/929M [00:22<00:00, 43.5MB/s]\n"
          ],
          "name": "stdout"
        }
      ]
    },
    {
      "cell_type": "code",
      "metadata": {
        "id": "uhcbO_V6Crvz",
        "colab_type": "code",
        "colab": {
          "base_uri": "https://localhost:8080/",
          "height": 423
        },
        "outputId": "2fa9f9db-e10b-401f-a51b-0ed73fe55951"
      },
      "source": [
        "!kaggle datasets list"
      ],
      "execution_count": 14,
      "outputs": [
        {
          "output_type": "stream",
          "text": [
            "Warning: Looks like you're using an outdated API Version, please consider updating (server 1.5.6 / client 1.5.4)\n",
            "ref                                                          title                                                size  lastUpdated          downloadCount  \n",
            "-----------------------------------------------------------  --------------------------------------------------  -----  -------------------  -------------  \n",
            "harvardlil/caselaw-dataset-illinois                          Caselaw Dataset (Illinois)                          929MB  2018-12-04 21:22:53            446  \n",
            "xvivancos/michael-jordan-kobe-bryant-and-lebron-james-stats  Michael Jordan, Kobe Bryant and Lebron James stats  187KB  2019-06-30 14:36:30            777  \n",
            "stefanoleone992/fifa-20-complete-player-dataset              FIFA 20 complete player dataset                      15MB  2019-09-26 20:19:33           5428  \n",
            "mkechinov/ecommerce-behavior-data-from-multi-category-store  eCommerce behavior data from multi category store     4GB  2019-12-09 20:43:39           1308  \n",
            "dwdkills/russian-demography                                  Russian Demography Data (1990-2017)                  31KB  2020-01-30 14:54:31            509  \n",
            "carlosparadis/fires-from-space-australia-and-new-zeland      Fires from Space: Australia                          20MB  2020-01-12 06:52:03            816  \n",
            "proselotis/financial-ipo-data                                Stocks IPO information & results                      9MB  2020-01-22 03:51:00            433  \n",
            "trolukovich/apparel-images-dataset                           Apparel images dataset                              248MB  2020-01-24 15:33:59            146  \n",
            "sobhanmoosavi/us-weather-events                              US Weather Events (2016 - 2019)                      50MB  2020-01-17 21:50:53            536  \n",
            "unanimad/screen-actors-guild-awards                          Screen Actors Guild Awards, 1994 - 2020              51KB  2020-01-22 12:24:49            248  \n",
            "jeffgallini/college-football-team-stats-2019                 College Football Team Stats 2019                     32KB  2020-01-15 16:59:40            742  \n",
            "mihirs16/coursera-course-data                                Coursera Courses Data                               275KB  2020-01-26 12:51:10            327  \n",
            "volodymyrgavrysh/bank-marketing-campaigns-dataset            Bank marketing campaigns dataset | Opening Deposit  391KB  2020-01-12 10:35:36            812  \n",
            "stephenofarrell/cost-of-living                               Cost of Living                                       23KB  2020-01-14 22:41:47           2696  \n",
            "austinreese/trump-tweets                                     Trump Tweets                                          3MB  2020-01-20 21:21:57            966  \n",
            "averkij/boolq-dataset                                        Google BoolQ Dataset                                  4MB  2020-01-17 15:10:39             78  \n",
            "veeralakrishna/butterfly-dataset                             Butterfly Dataset                                   454MB  2020-01-10 12:07:42            258  \n",
            "cnic92/200-financial-indicators-of-us-stocks-20142018        200+ Financial Indicators of US stocks (2014-2018)   15MB  2020-01-18 17:16:22            775  \n",
            "timoboz/superbowl-history-1967-2020                          Superbowl History 1967 - 2020                         2KB  2020-02-03 23:41:14              6  \n",
            "sudalairajkumar/novel-corona-virus-2019-dataset              Novel Corona Virus 2019 Dataset                       6KB  2020-02-03 07:09:20           2103  \n"
          ],
          "name": "stdout"
        }
      ]
    }
  ]
}