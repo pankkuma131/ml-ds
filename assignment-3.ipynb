{
 "cells": [
  {
   "cell_type": "markdown",
   "metadata": {},
   "source": [
    "# Assignment - 3"
   ]
  },
  {
   "cell_type": "markdown",
   "metadata": {},
   "source": [
    "# Task 1"
   ]
  },
  {
   "cell_type": "markdown",
   "metadata": {},
   "source": [
    "Question - 1 ##  Write a function to compute 5/0 and use try/except to catch the exceptions."
   ]
  },
  {
   "cell_type": "code",
   "execution_count": 2,
   "metadata": {},
   "outputs": [
    {
     "name": "stdout",
     "output_type": "stream",
     "text": [
      "The denominator is zero and thus, it can not be divided.\n",
      "I came to finally block and done computing!!\n"
     ]
    }
   ],
   "source": [
    "def div_func():\n",
    "    try:\n",
    "        compute_result = 5/0\n",
    "    except:\n",
    "        print(\"The denominator is zero and thus, it can not be divided.\")\n",
    "    else:\n",
    "        print(\"The questions is ::\", compute_result)\n",
    "    finally:\n",
    "        print(\"I came to finally block and done computing!!\")\n",
    "        \n",
    "div_func()"
   ]
  },
  {
   "cell_type": "markdown",
   "metadata": {},
   "source": [
    "Question - 2 ## Implement a Python program to generate all sentences where subject is in [\"Americans\",\n",
    "\"Indians\"] and verb is in [\"Play\", \"watch\"] and the object is in [\"Baseball\",\"cricket\"].\n",
    "Hint: Subject,Verb and Object should be declared in the program as shown below.\n",
    "subjects=[\"Americans \",\"Indians\"]\n",
    "verbs=[\"play\",\"watch\"]\n",
    "objects=[\"Baseball\",\"Cricket\"]\n",
    "\n",
    "Output should come as below:\n",
    "Americans play Baseball.\n",
    "Americans play Cricket.\n",
    "Americans watch Baseball.\n",
    "Americans watch Cricket.\n",
    "Indians play Baseball.\n",
    "Indians play Cricket.\n",
    "Indians watch Baseball.\n",
    "Indians watch Cricket."
   ]
  },
  {
   "cell_type": "code",
   "execution_count": 42,
   "metadata": {},
   "outputs": [
    {
     "name": "stdout",
     "output_type": "stream",
     "text": [
      "Americans play Baseball. \n",
      "Americans play Cricket. \n",
      "Americans watch Baseball. \n",
      "Americans watch Cricket. \n",
      "Indians play Baseball. \n",
      "Indians play Cricket. \n",
      "Indians watch Baseball. \n",
      "Indians watch Cricket. \n"
     ]
    }
   ],
   "source": [
    "# A method to create a sentence using subject, verb and object\n",
    "def sentence_generation():\n",
    "    \n",
    "    # Declaring the list and assigning them the values\n",
    "    subjects = [\"Americans\", \"Indians\"]\n",
    "    verbs = [\"play\", \"watch\"]\n",
    "    objects = [\"Baseball\", \"Cricket\"]\n",
    "\n",
    "    # Create and print sentences using the given list\n",
    "    for race in subjects:\n",
    "        for action in verbs:\n",
    "            for game in objects:\n",
    "                print(race,action,game,end=\". \\n\")\n",
    "                \n",
    "sentence_generation()"
   ]
  },
  {
   "cell_type": "markdown",
   "metadata": {},
   "source": [
    "# Task 2"
   ]
  },
  {
   "cell_type": "markdown",
   "metadata": {},
   "source": [
    "Question - 1 ## Write a function so that the columns of the output matrix are powers of the input vector.\n",
    "input vector = [1,2,3,4,....]\n",
    "output Matrix -\n",
    "[1,1,1,1]\n",
    "[1,2,4,8]\n",
    "[1,3,9,27]\n",
    "[1,4,16,64]\n",
    "\n",
    "\n",
    "The order of the powers is determined by the increasing boolean argument. Specifically, when increasing is False, the i-th output column is the input vector raised element-wise to the power of N - i - 1.\n",
    "\n",
    "HINT: Such a matrix with a geometric progression in each row is named for Alexandre-Theophile Vandermonde.\n",
    "NOTE: The solution shared through Github should contain the source code used and the screenshot of the output."
   ]
  },
  {
   "cell_type": "code",
   "execution_count": 22,
   "metadata": {},
   "outputs": [
    {
     "data": {
      "text/plain": [
       "array([[  1,   1,   1,   1,   1],\n",
       "       [  1,   2,   4,   8,  16],\n",
       "       [  1,   3,   9,  27,  81],\n",
       "       [  1,   4,  16,  64, 256],\n",
       "       [  1,   5,  25, 125, 625]], dtype=int32)"
      ]
     },
     "execution_count": 22,
     "metadata": {},
     "output_type": "execute_result"
    }
   ],
   "source": [
    "import numpy as np\n",
    "\n",
    "input = [1,2,3,4,5]\n",
    "\n",
    "def matmultiplication(input):\n",
    "    output =[]\n",
    "    in_length = len(input)\n",
    "    power = np.arange(in_length)\n",
    "    for i in input:\n",
    "        for j in power:\n",
    "            output.append(np.power(i, j))\n",
    "    output_mat = np.array(output).reshape(in_length, in_length)\n",
    "    return output_mat\n",
    "        \n",
    "matmultiplication(input)        \n",
    "    "
   ]
  },
  {
   "cell_type": "code",
   "execution_count": null,
   "metadata": {},
   "outputs": [],
   "source": []
  }
 ],
 "metadata": {
  "kernelspec": {
   "display_name": "Python 3",
   "language": "python",
   "name": "python3"
  },
  "language_info": {
   "codemirror_mode": {
    "name": "ipython",
    "version": 3
   },
   "file_extension": ".py",
   "mimetype": "text/x-python",
   "name": "python",
   "nbconvert_exporter": "python",
   "pygments_lexer": "ipython3",
   "version": "3.7.4"
  }
 },
 "nbformat": 4,
 "nbformat_minor": 2
}
